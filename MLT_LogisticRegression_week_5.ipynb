{
  "nbformat": 4,
  "nbformat_minor": 0,
  "metadata": {
    "colab": {
      "name": "MLT_LogisticRegression_week_5.ipynb",
      "provenance": [],
      "collapsed_sections": [],
      "include_colab_link": true
    },
    "kernelspec": {
      "name": "python3",
      "display_name": "Python 3"
    },
    "language_info": {
      "name": "python"
    }
  },
  "cells": [
    {
      "cell_type": "markdown",
      "metadata": {
        "id": "view-in-github",
        "colab_type": "text"
      },
      "source": [
        "<a href=\"https://colab.research.google.com/github/Neeraj70820/My-Notes/blob/MLT-Notes/MLT_LogisticRegression_week_5.ipynb\" target=\"_parent\"><img src=\"https://colab.research.google.com/assets/colab-badge.svg\" alt=\"Open In Colab\"/></a>"
      ]
    },
    {
      "cell_type": "markdown",
      "source": [
        "#Logistic regression Implementation\n",
        "* Logisitc regression is the **workhorse** of machine learning.\n",
        "* Before deep learning era, logisitc regression was **the default choice** for solving  real life classification problems with hundreds of thousands of features.\n",
        "* It works in binary,multi-class and multi-label classification set ups.\n",
        "\n",
        "# Objective \n",
        "In this colab, we will implement **binary logistic regression** from scratch and employ it for solving a couple of classification problems.\n",
        "\n",
        "In one of the setting, we have linearly separable classes and the other one has non-linear decision boundaryy between classes.\n",
        "\n",
        "The first problem can be addressed with basic logistic regression classifier, while the second problem require an additional step of **polynomial transformation** before using logisitic regression.\n",
        "\n",
        "Let's begin by importing basic python libraries that are required for the implementation:\n",
        "\n",
        "* `numpy` for implementing components of logistic regression in vectrorized form.\n",
        "* `matplotlib` and `seaborn` for visualization.\n",
        "* `Math` and `Latex` libraries for proper rendering of mathematical expressions in colab.\n",
        "\n"
      ],
      "metadata": {
        "id": "PjXDOGJCL-go"
      }
    },
    {
      "cell_type": "code",
      "source": [
        "#@title [Import libraries]\n",
        "from IPython.display import display, Math,Latex\n",
        "#Imported for proper rendering of latex in colab\n",
        "\n",
        "import numpy as np\n",
        "import seaborn as sns\n",
        "import matplotlib.pyplot as plt\n",
        "\n",
        "%matplotlib inline\n",
        "\n"
      ],
      "metadata": {
        "id": "gUEllKJAz9WH"
      },
      "execution_count": null,
      "outputs": []
    },
    {
      "cell_type": "markdown",
      "source": [
        "As a good practice, set the random seed in order to reproduce same results across different runs of this colab.\n",
        "\n",
        "We will set it to 1234, you can set it to any other number of your choice.\n",
        "\n"
      ],
      "metadata": {
        "id": "xQUqL30j0b4n"
      }
    },
    {
      "cell_type": "code",
      "source": [
        "np.random.seed(1234)\n"
      ],
      "metadata": {
        "id": "fhbBxArU0rGf"
      },
      "execution_count": null,
      "outputs": []
    },
    {
      "cell_type": "markdown",
      "source": [
        "#Implementation\n",
        "In this first part of this excercise, we will implement **individual components** of binary logistic regression one by one:\n",
        "\n",
        "#Model\n",
        "\n",
        "* As you know, the logisitc regression classifier calculates the probability of a sample, represented with a feature vcetor $ \\mathbf x $, belonging to class 1: $ Pr(y=1| \\mathbf x) $.\n",
        "* It has two steps:\n",
        "  1. **linear combination of features** and obtain $z = \\mathbf {w^Tx}$.\n",
        "  2. The second step applies **sigmoid of logistic activation** on $z$ to obtain the probability:\n",
        "  $$ Pr(y=1| \\mathbf x) = \\text {sigmoid}(z)$$\n",
        "  $$     =\\frac{1}{1+e^{-z}}$$\n",
        "\n",
        "  As we have discussed several times in the past, performing this computation example is not efficient. We can make it efficient by rewriting it in vectorized form.\n",
        "\n",
        "  The vectorized form enables us to compute probabilities for several examples all at once as follows:\n",
        "  1. By vectorizing **linear combination of features** leading to efficient computation: \n",
        "  $$ \\mathbf z_{n \\times 1} = \\mathbf {X_{n \\times m}w_{m \\times 1}} $$\n",
        "  Here \n",
        "  * The feature matrix $ \\mathbf X$ has shame $(n,m)$, \n",
        "  * The weight vector $\\mathbf w$ has m components and \n",
        "  * The resulting linear combination $ \\mathbf z$ is a vector with n components.\n",
        "  "
      ],
      "metadata": {
        "id": "j3Jh2ulm0w6I"
      }
    },
    {
      "cell_type": "code",
      "source": [
        "#let's implement linear combination in vectorized form\n",
        "def linear_combination(X,w):\n",
        "  z=X@w\n",
        "  return z"
      ],
      "metadata": {
        "id": "1LZVeVDH4Eg-"
      },
      "execution_count": null,
      "outputs": []
    },
    {
      "cell_type": "markdown",
      "source": [
        "2. By vectorizing **sigmoid or logistic activation** to obtain a vector of probability or activation:\n",
        "$$ Pr(y=1| \\mathbf X)_{n \\times 1}= \\text {sigmoid}(\\mathbf z_{n \\times 1})$$ \n",
        "  * The sigmoid function is applied on the vector $\\mathbf z$ with $n$ components and the result is **probability** or an **activation vector** with $n$ components.\n",
        "  "
      ],
      "metadata": {
        "id": "VoaxcciN4e2m"
      }
    },
    {
      "cell_type": "code",
      "source": [
        "# let's implement sigmoid funciton in a vectorized form.\n",
        "\n",
        "def sigmoid(z):\n",
        "  return 1/(1+ np.exp(-z)) \n"
      ],
      "metadata": {
        "id": "Yufovhrk5Hxf"
      },
      "execution_count": null,
      "outputs": []
    },
    {
      "cell_type": "markdown",
      "source": [
        "Further we apply vectorizeed prediction or inference function on activations to obtain a class label. Specifically, if **activation or probability>threshold**, then we label the sample with class 1, or 0.\n"
      ],
      "metadata": {
        "id": "3rWHV4cr5YQt"
      }
    },
    {
      "cell_type": "code",
      "source": [
        "def predict(X,w, threhold:float):\n",
        "  return np.where(sigmoid(linear_combination(X,w)) >threhold,1,0) #default value of threshold= 0.5\n",
        "  "
      ],
      "metadata": {
        "id": "WaBKomN65ukk"
      },
      "execution_count": null,
      "outputs": []
    },
    {
      "cell_type": "markdown",
      "source": [
        "## Let's label a couple of samples through the code that we have written so far-\n",
        "* Two samples -each with two features `-np.array([1,20,2],[1,2,2])` where the first one is a dummy feature set to 1 corresponding to the bias.\n",
        "* weight vector: `np.array([-1,0,1])` \n"
      ],
      "metadata": {
        "id": "q5lU2UbT6S6G"
      }
    },
    {
      "cell_type": "code",
      "source": [
        "feature_matrix = np.array([[1,20,2],[1,2,2]])\n",
        "weight_vector = np.array([-1,0,1])\n",
        "\n",
        "print(\"shape of feature matrix : \", feature_matrix.shape)\n",
        "print(\"shape of weight vector : \", weight_vector.shape)\n",
        "\n",
        "class_labels = predict(feature_matrix, weight_vector, 0.5)\n",
        "\n",
        "print(\"shape of class lablels\", class_labels.shape)\n",
        "print(\"the class label vector is \", class_labels)"
      ],
      "metadata": {
        "colab": {
          "base_uri": "https://localhost:8080/"
        },
        "id": "p5-z6vVy6wpj",
        "outputId": "5e523ef0-0fea-45a7-88cc-91a5cabaa3b0"
      },
      "execution_count": null,
      "outputs": [
        {
          "output_type": "stream",
          "name": "stdout",
          "text": [
            "shape of feature matrix :  (2, 3)\n",
            "shape of weight vector :  (3,)\n",
            "shape of class lablels (2,)\n",
            "the class label vector is  [1 1]\n"
          ]
        }
      ]
    },
    {
      "cell_type": "markdown",
      "source": [
        "Both the sample are labelled with class 1.\n",
        "#Loss function \n",
        "\n",
        "Next we will implement binary cross entropy (BCE) loss with regularization. The base loss without regularization can be obtained by setting the regularizaiton rate $ \\lambda$ to 0.\n",
        "\n",
        "The generic form of loss is as follows:                                          \n",
        "                                                                                               BCE = BCE on training examples + $\\lambda$ regularization penalty\n",
        "                                                                                \n",
        "\n",
        "  Note that the **regularization rate $ \\lambda$ controls the amount of regularization penalty to be used.\n",
        "  \n",
        "  Bye setting $\\lambda =0$, we get binary cross entropy loss:\n",
        "                      BCE = BCE on training examples + 0 regularization penalty\n",
        "\n",
        "                          = BCE on training examples \n",
        "  We use $L_{2} \\text {and} L_1$ regularization in logistic regression.\n",
        "\n",
        "  with $L_2$ **regularization**, the loss function is calculated as:\n",
        "  \\begin{equation} J(\\mathbf w)=-\\left( \\sum_{i=1}^{n}y^{(i)} \\text {log}(\\text {sigmoid}(\\mathbf w^Tx^{(i)}))+(1-y^{(i)}) \\text {log}(1- \\text {sigmoid}(\\mathbf w^Tx^{(i)}))\\right) + \\frac{\\lambda}{2} ||\\mathbf w||^2\\end{equation}\n",
        "\n",
        "  with $L_1$ regularization, the loss function is calculated as follows:\n",
        "\n",
        "  \\begin{equation} J(\\mathbf w)=-\\left( \\sum_{i=1}^{n}y^{(i)} \\text {log}(\\text {sigmoid}(\\mathbf w^Tx^{(i)}))+(1-y^{(i)}) \\text {log}(1- \\text {sigmoid}(\\mathbf w^Tx^{(i)}))\\right) + \\frac{\\lambda}{2} ||\\mathbf w||\\end{equation}\n",
        "      "
      ],
      "metadata": {
        "id": "yTUgnt0d7-x4"
      }
    },
    {
      "cell_type": "markdown",
      "source": [
        "#Note: 1/2 factor is still not clear in implementation sir has not mentioned but was given in slides.\n",
        "\n",
        "In order to write the loss in vectorized form, we will first calculate the term inside summation in vectorized form: \n",
        "\n",
        "\\begin{equation} \\mathbf e = \\mathbf y \\text {log}( \\text {sigmoid}\\mathbf {(Xw))}+ (1-\\mathbf y)\\text{log}(1-\\text{sigmoid}(\\mathbf {Xw})) \\end{equation}\n",
        "\n",
        "with this, the loss becomes:\n",
        "\\begin{equation} J(\\mathbf w)=-\\mathbf 1_{1 \\times n}^T \\mathbf e_{n \\times 1}\\end{equation}\n",
        "\n",
        "**Excercise**: verify this equality.\n",
        "Adding $L_2$ penalty, we get:\n",
        "\\begin{equation} J(\\mathbf w)=-\\mathbf 1^T \\mathbf e+\\lambda \\mathbf w^T \\mathbf w\\end{equation}\n",
        "\n",
        "Adding $L_1$ penalty, we get:\n",
        "\n",
        "\\begin{equation} J(\\mathbf w)=-\\mathbf 1^T \\mathbf e +\\lambda \\mathbf 1^T  |\\mathbf w|  \\end{equation}\n",
        "\n",
        "The loss function implements vectorized loss calculation with actual label vector, activation vector, weight vector, and $L_1$ and $L_2$ regularization rates.\n",
        "\n",
        "  Set the regularization rate that is not needed to 0.\n",
        "  If we set the regularization rates such that there sum is 1, we get elastic net regularization. In other words, for elastic net classifier, we have `l1_reg_rate + l2_reg_rate =1`\n",
        "\n",
        "  The loss function returns a scalar quantity that denotes the loss on all training examples for a particular choice of the weight vector.\n",
        "\n",
        "  "
      ],
      "metadata": {
        "id": "0CG5gOPsAeA1"
      }
    },
    {
      "cell_type": "code",
      "source": [
        "def loss(y, sigmoid_vector, weight_vector,l1_reg_rate,l2_reg_rate):\n",
        "  #sigmoid_vector = X@w = z \n",
        "  return (-1*(np.sum(y*np.log(sigmoid_vector)+(1-y)*np.log(1-sigmoid_vector))))\n",
        "  + l2_reg_rate* np.dot(np.transpose(weight_vector),weight_vector) \n",
        "  + l1_reg_rate * np.sum(np.abs(weight_vector))"
      ],
      "metadata": {
        "id": "n5jwmDffE6pL"
      },
      "execution_count": null,
      "outputs": []
    },
    {
      "cell_type": "markdown",
      "source": [
        "We will be implementing only $L_2$ regularization in logisitc regression class later in this colab.\n"
      ],
      "metadata": {
        "id": "TXw0GfZIGyFD"
      }
    },
    {
      "cell_type": "markdown",
      "source": [
        "#Optimization\n",
        "Next we will implement optimization. For that we will make use of iterative optimization techniques like gradient descent(GD), mini-batch gradient descent (MBGD) or stochastic gradient descent(SGD).\n",
        "\n",
        "We will demonstrate GD in this colab and for that we will adopt the GD implementation from linear regression.\n",
        "\n",
        "We need to modify gradient update rule that is suitable for logistic regression loss:\n",
        "* **STEP 1**: Calculate gradient descent loss function and \n",
        "* **STEP 2**: Scale the gradient with learning rate and use it for updating the weight vector.\n",
        "\n",
        "#Gradient of loss function.\n",
        "The gradient of loss function can be calculated (in vectorized form) as follows:\n",
        "\\begin{equation} \\frac {\\partial}{\\partial \\mathbf w}J(\\mathbf w)= \\mathbf X^T(\\text {sigmoid}(\\mathbf {(Xw)-y})+ \\lambda \\mathbf w\\end{equation}\n",
        "\n",
        "Where\n",
        "* sigmoid$(\\mathbf {Xw})$ is the sigmoid activation vector of samples and \n",
        "* $\\mathbf y$ is a label vector\n",
        "* $\\mathbf w$ is a weight vector\n",
        "* $\\lambda$ is a regularization rate\n",
        "\n",
        "It is implemented with `calculate_graidient` function that takes feature matrix $\\mathbf X$, label vector $\\mathbf y$, weight vector $\\mathbf w$ and regualarization rate $\\lambda$ as arguments and efficiently calculates gradient of loss function w.r.t the weight vector in vectorized form.\n",
        "\n",
        "\n"
      ],
      "metadata": {
        "id": "uIXv8KwUG54j"
      }
    },
    {
      "cell_type": "code",
      "source": [
        "def calculate_gradient(X,y,w,reg_rate):\n",
        "  return np.transpose(X)@(sigmoid(linear_combination(X,w))-y)+reg_rate*w"
      ],
      "metadata": {
        "id": "49_0fm_5JVvZ"
      },
      "execution_count": null,
      "outputs": []
    },
    {
      "cell_type": "markdown",
      "source": [
        "As part of the implementation, we store loss and weight vectors in each GD step as a class member  variable.\n",
        "* The step-wise loss is used for plotting a learning curve in order to ensure that the model is training as expected.\n",
        "* The step-wise weight vector is useful in studying the **trajectory of gradient descent** in the loss landscape.\n",
        "\n",
        "**Programming Excercise** \n",
        "1. Implement stochastic gradient descent for logistic regression classifier.\n",
        "2. Implement mini batch gradient descent for logitistic regression classifier.\n",
        "\n",
        "\n",
        "#Logistic regression class implementation\n",
        "\n",
        "We combine these different components into a single python class with name `LogisticRegression`.\n",
        "\n",
        "It has the following class memeber variables.\n",
        "1. Weight vector\n",
        "2. Loss and weight vectors in each GD step.\n"
      ],
      "metadata": {
        "id": "DYlHylPFKzXJ"
      }
    },
    {
      "cell_type": "code",
      "source": [
        "class LogisticRegression(object):\n",
        "  #y_hat = sigmoid(X@w)\n",
        "\n",
        "  def set_weight_vector(self,w):\n",
        "    self.w = w \n",
        "  \n",
        "  def linear_combination(self,X):\n",
        "    #z=xw \n",
        "    return X@self.w \n",
        "  def sigmoid(self,z):\n",
        "    return 1/(1+np.exp(-z)) \n",
        "\n",
        "  def activation(self,X):\n",
        "    #act = sigmoid(Xw)\n",
        "\n",
        "    return self.sigmoid(self.linear_combination(X))\n",
        "  def predict(self,X, threshold:float=0.5):\n",
        "    return (self.activation(X)>threshold).astype(int)\n",
        "  def loss(self,X,y,reg_rate:float):\n",
        "    predicted_prob = self.activation(X) \n",
        "\n",
        "    return (-1*(np.sum(y*np.log(predicted_prob)+(1-y)*np.log(1-predicted_prob))))\n",
        "    + reg_rate*np.dot(np.transpose(self.w),self.w)\n",
        "  \n",
        "  def calculate_gradient(self,X,y,reg_rate):\n",
        "    return X.T@(self.activation(X)-y) + reg_rate*self.w \n",
        "\n",
        "  def update_weights(self,grad,lr):\n",
        "    return self.w -lr*grad\n",
        "\n",
        "  def gd(self,X,y, num_epochs,lr, reg_rate):\n",
        "    self.w = np.zeros(X.shape[1])\n",
        "    self.w_all=[] \n",
        "    self.err_all=[]\n",
        "    for i in np.arange(0,num_epochs):\n",
        "      dJdW = self.calculate_gradient(X,y,reg_rate) #grad=djdw \n",
        "      self.w_all.append(self.w)\n",
        "      self.err_all.append(self.loss(X,y,reg_rate))\n",
        "      self.w = self.update_weights(dJdW,lr)\n",
        "    return self.w"
      ],
      "metadata": {
        "id": "f9TGNk2BL2hn"
      },
      "execution_count": null,
      "outputs": []
    },
    {
      "cell_type": "markdown",
      "source": [
        "In this section, we implemented binary logistic regression classifier from scratch. First we implemented all its components in vectorized form and then clubbed all of them together in a python class.\n",
        "\n",
        "In the next section, we will use this implementation to solve a couple of classificiation problems.\n",
        "\n",
        "#Demo #1: Logistic regression for linearly separable binary classification.\n",
        "\n",
        "In the first experiment, we will use logistic regression to learn decision boundary between two linearly separable classes.\n",
        "\n",
        "STEP1: As the first step, we will generate two linearly separable classes with 25 samples each, Each example is represented with two features."
      ],
      "metadata": {
        "id": "EA0vVd4-D5JE"
      }
    },
    {
      "cell_type": "code",
      "source": [
        "#title [Toy dataset creation]\n",
        "def create_toy_data():\n",
        "  x0 = np.random.normal(size=50).reshape(-1,2)-1\n",
        "  x1 = np.random.normal(size=50).reshape(-1,2)+1\n",
        "  return np.concatenate([x0,x1]),np.concatenate([np.zeros(x1.shape[0]),np.ones(x1.shape[0])]).astype(int) #check for label vector code in previous colab"
      ],
      "metadata": {
        "id": "UhqCX0kjQT5M"
      },
      "execution_count": null,
      "outputs": []
    },
    {
      "cell_type": "code",
      "source": [
        "feature_matrix, label_vector = create_toy_data()\n",
        "print(\"shape of feature matrix\", feature_matrix.shape)\n",
        "print(\"shape of label vector:\", label_vector.shape)"
      ],
      "metadata": {
        "colab": {
          "base_uri": "https://localhost:8080/"
        },
        "id": "WkfUMRQcRtYo",
        "outputId": "95ab4ae5-1535-456b-a092-41e9849060f1"
      },
      "execution_count": null,
      "outputs": [
        {
          "output_type": "stream",
          "name": "stdout",
          "text": [
            "shape of feature matrix (50, 2)\n",
            "shape of label vector: (50,)\n"
          ]
        }
      ]
    },
    {
      "cell_type": "markdown",
      "source": [
        "As a sanity check, compare the first element of shape of feature matrix and label vector. Make sure they are identical.\n"
      ],
      "metadata": {
        "id": "qjp3o-g_SDsu"
      }
    },
    {
      "cell_type": "code",
      "source": [
        "assert feature_matrix.shape[0]==label_vector.shape[0]"
      ],
      "metadata": {
        "id": "I_ZTquiASM9v"
      },
      "execution_count": null,
      "outputs": []
    },
    {
      "cell_type": "markdown",
      "source": [
        "The assertion succeed - which means both features matrix and label list have the same number of rows.\n",
        "\n",
        "**STEP 2**: Add a dummy feature corresponding to this bias. We make use of polynomial feature transformation code that we have been using in the previous colabs.\n",
        "    The dummy feature can be added by performing polynomial transformation of degree 1.\n",
        "\n",
        "#Polynomial transformation\n"
      ],
      "metadata": {
        "id": "NL1E8kQ1v3AI"
      }
    },
    {
      "cell_type": "code",
      "source": [
        "import itertools \n",
        "import functools \n",
        "import numpy as np \n",
        "def polynomial_transform(x,degree):\n",
        "  if x.ndim ==1:\n",
        "    x=x[:, None]\n",
        "  x_t = x.transpose()\n",
        "  features = [np.ones(len(x))]\n",
        "  for degree in range(1, degree+1):\n",
        "    for items in itertools.combinations_with_replacement(x_t ,degree):\n",
        "      features.append(functools.reduce(lambda x ,y : x*y , items)) \n",
        "  return np.asarray(features).transpose() "
      ],
      "metadata": {
        "id": "H4Yek2STxiOx"
      },
      "execution_count": null,
      "outputs": []
    },
    {
      "cell_type": "code",
      "source": [
        "feature_matrix_bias = polynomial_transform(feature_matrix,degree=1)\n"
      ],
      "metadata": {
        "id": "YtdrKvzDyC44"
      },
      "execution_count": null,
      "outputs": []
    },
    {
      "cell_type": "markdown",
      "source": [
        "**STEP 3:** Separate data into training and test sets.\n"
      ],
      "metadata": {
        "id": "a1mEAUSHxaLM"
      }
    },
    {
      "cell_type": "code",
      "source": [
        "from sklearn.model_selection import train_test_split\n",
        "x_train, x_test, y_train, y_test = train_test_split(feature_matrix_bias, label_vector, test_size=0.2)\n"
      ],
      "metadata": {
        "id": "h0kGac1D12ZU"
      },
      "execution_count": null,
      "outputs": []
    },
    {
      "cell_type": "markdown",
      "source": [
        "It is good practice to assert that the training feature matrix and labels have the same number of rows. The same assertion should be extended to the test set.\n"
      ],
      "metadata": {
        "id": "ExOf1U8R2PuO"
      }
    },
    {
      "cell_type": "code",
      "source": [
        "assert x_train.shape[0] == y_train.shape[0]\n",
        "assert x_test.shape[0]==y_test.shape[0]"
      ],
      "metadata": {
        "id": "-r2hC8P_2aa-"
      },
      "execution_count": null,
      "outputs": []
    },
    {
      "cell_type": "markdown",
      "source": [
        "Note that the assertion passed.\n",
        "\n",
        "**STEP 4**: Let's visualize the training data to get an idea of its distribution.\n",
        "Note that it won't be possible to  visualize real world datasets as there are many features. In this case, we have only two features in our dataset and hence we can visualize it.\n",
        "\n",
        "**STEP 4**: Let's  visualize real world datasets as there are many features. In this case, we have only two features in our dataset and hence we can visualize it.\n"
      ],
      "metadata": {
        "id": "jNn0dKIXAW4Z"
      }
    },
    {
      "cell_type": "code",
      "source": [
        "sns.set_style('white')\n",
        "f = plt.figure(figsize=(8,8))\n",
        "sns.set_context('notebook',font_scale=1.5, rc={'lines.linewidth': 2.5})\n",
        "\n",
        "sns.scatterplot(data=x_train, x=x_train[:,-2],y=x_train[:,-1], hue=y_train)\n",
        "plt.xlabel('$x_1$')\n",
        "plt.ylabel('$x_2$')\n",
        "plt.show()"
      ],
      "metadata": {
        "colab": {
          "base_uri": "https://localhost:8080/",
          "height": 515
        },
        "id": "nLTbRVoaDjx9",
        "outputId": "ec0103a9-5f72-4a44-9c0d-94780277e3d2"
      },
      "execution_count": null,
      "outputs": [
        {
          "output_type": "display_data",
          "data": {
            "image/png": "[encoded data removed]",
            "text/plain": [
              "<Figure size 576x576 with 1 Axes>"
            ]
          },
          "metadata": {}
        }
      ]
    },
    {
      "cell_type": "markdown",
      "source": [
        "**STEP 5** We are all set to training a logisitic regression on this problem.\n",
        "1. First instantiate a logistic regression object.\n",
        "2. Train the model with gradient descent procedure on the given training set.\n",
        "\n"
      ],
      "metadata": {
        "id": "PqWtJcsfFQGA"
      }
    },
    {
      "cell_type": "code",
      "source": [
        "log_reg = LogisticRegression()\n",
        "log_reg.gd(x_train,y_train, num_epochs=1000, reg_rate=0,lr=1e-2)\n"
      ],
      "metadata": {
        "colab": {
          "base_uri": "https://localhost:8080/"
        },
        "id": "6wcbIE9YFiSx",
        "outputId": "db42b031-8ca5-45f3-8ca4-629f76db770d"
      },
      "execution_count": null,
      "outputs": [
        {
          "output_type": "execute_result",
          "data": {
            "text/plain": [
              "array([-0.14299784,  4.48726534,  1.96768084])"
            ]
          },
          "metadata": {},
          "execution_count": 172
        }
      ]
    },
    {
      "cell_type": "markdown",
      "source": [
        "It is good practice to examine the learning curve to make sure the model is able to learn with the current training set up. In cases, where the model is learning, the loss will reduce from one iteration to the next in gradient descent.\n",
        "\n"
      ],
      "metadata": {
        "id": "3ZDkPuJOGvMI"
      }
    },
    {
      "cell_type": "code",
      "source": [
        "#@title [learning curves]\n",
        "def plot_learning_curve(err):\n",
        "  plt.plot(np.arange(len(err)),err, 'r-')\n",
        "  plt.xlabel('Iter #')\n",
        "  plt.ylabel('$\\mathbf {J(w)}$')"
      ],
      "metadata": {
        "id": "599nDBJFHEkP"
      },
      "execution_count": null,
      "outputs": []
    },
    {
      "cell_type": "markdown",
      "source": [
        "We use loss values stored during each step of GD for plotting the learning curve.\n",
        "\n",
        "Here is our learning curve-the iteration number is on x-axis and the loss is on y-axis.\n"
      ],
      "metadata": {
        "id": "coIUszhVIAE2"
      }
    },
    {
      "cell_type": "code",
      "source": [
        "plot_learning_curve(log_reg.err_all)"
      ],
      "metadata": {
        "colab": {
          "base_uri": "https://localhost:8080/",
          "height": 298
        },
        "id": "w5KwsnJdIQAL",
        "outputId": "73670780-81c9-40da-b848-139f5cba89ea"
      },
      "execution_count": null,
      "outputs": [
        {
          "output_type": "display_data",
          "data": {
            "image/png": "[encoded data removed]",
            "text/plain": [
              "<Figure size 432x288 with 1 Axes>"
            ]
          },
          "metadata": {}
        }
      ]
    },
    {
      "cell_type": "markdown",
      "source": [
        "Note that the loss drops smoothly as we proceed with GD.\n",
        "  This is an ideal learning curve for the model training task.\n",
        "\n",
        "  #Model visualization"
      ],
      "metadata": {
        "id": "X0RkaxSLIjIu"
      }
    },
    {
      "cell_type": "code",
      "source": [
        "import seaborn as sns\n",
        "#@title Model visualization \n",
        "sns.set_context(\"notebook\", font_scale=1.5, rc={\"lines.linewidth\": 2.5})\n",
        "\n",
        "\n",
        "def visualize_model(X_train, labels, log_reg, degree=1):\n",
        "\n",
        "  f = plt.figure(figsize = (8,8)) \n",
        "\n",
        "  #compute xlim and ylim \n",
        "  x1_min = np.min(x_train[:,1]) \n",
        "  x1_max = np.max(x_train[:,1])\n",
        "  x2_min = np.min(x_train[:,2])\n",
        "  x2_max = np.max(x_train[:,2]) \n",
        "\n",
        "  x1_test ,x2_test = np.meshgrid(np.linspace(x1_min, x1_max, 100),\n",
        "                                 np.linspace(x2_min, x2_max, 100)) \n",
        "  x_test = np.array([x1_test, x2_test]).reshape(2,-1).T \n",
        "  x_test_poly = polynomial_transform(x_test , degree = degree )\n",
        "  y_test = log_reg.predict(x_test_poly )\n",
        "\n",
        "  sns.scatterplot(data=X_train, x=X_train[:,1], y =X_train[:,2],hue=labels)\n",
        "  plt.contourf(x1_test,x2_test, y_test.reshape(100,100),alpha=0.5,\n",
        "               levels=np.linspace(0,1,3))\n",
        "\n",
        "  plt.xlabel(\"$x_1$\")\n",
        "  plt.ylabel(\"$x_2$\")\n",
        "  plt.xlim(x1_min, x1_max)\n",
        "  plt.ylim(x2_min, x2_max)\n",
        "  plt.gca().set_aspect('equal', adjustable='box')\n",
        "  return plt.show()\n"
      ],
      "metadata": {
        "id": "tZLoNxCaJYez"
      },
      "execution_count": null,
      "outputs": []
    },
    {
      "cell_type": "code",
      "source": [
        "visualize_model(x_train, y_train, log_reg)"
      ],
      "metadata": {
        "colab": {
          "base_uri": "https://localhost:8080/",
          "height": 522
        },
        "id": "UrUEvVY8KSDI",
        "outputId": "a3ecef86-d17d-469e-f412-3d15957ec920"
      },
      "execution_count": null,
      "outputs": [
        {
          "output_type": "display_data",
          "data": {
            "image/png": "[encoded data removed]",
            "text/plain": [
              "<Figure size 576x576 with 1 Axes>"
            ]
          },
          "metadata": {}
        }
      ]
    },
    {
      "cell_type": "markdown",
      "source": [
        "Our model learnt a reasonable decision boundary that is able to separate most point from two classes.\n",
        "\n",
        "**Excercise**: Rerun model training with different gradient descent settings and note down your observations about the decision boundary and the final weight vector.\n",
        "\n",
        "**STEP 6**: Model evaluation\n",
        "\n",
        "The next step is to use the model for making predictions on the new inputs. Let's predict labels on the test set-that was set aside for evaluating model performance."
      ],
      "metadata": {
        "id": "OJfCnW9WK63i"
      }
    },
    {
      "cell_type": "code",
      "source": [
        "y_test_hat = log_reg.predict(x_test)"
      ],
      "metadata": {
        "id": "s4gkNcbbLhTT"
      },
      "execution_count": null,
      "outputs": []
    },
    {
      "cell_type": "markdown",
      "source": [
        "We compare these predictions with the actual labels and generate a classification report that includes several metrics like confusion matrix, precision, recall, F1-score etc.\n",
        "\n"
      ],
      "metadata": {
        "id": "zfcMd_4bKbV3"
      }
    },
    {
      "cell_type": "code",
      "source": [
        "from sklearn.metrics import classification_report \n",
        "print(classification_report(y_test,y_test_hat, zero_division=0))"
      ],
      "metadata": {
        "colab": {
          "base_uri": "https://localhost:8080/"
        },
        "id": "d763A_pMLyxH",
        "outputId": "bf274a0c-8f58-4b99-eded-d36b5ceeb62a"
      },
      "execution_count": null,
      "outputs": [
        {
          "output_type": "stream",
          "name": "stdout",
          "text": [
            "              precision    recall  f1-score   support\n",
            "\n",
            "           0       1.00      0.60      0.75         5\n",
            "           1       0.71      1.00      0.83         5\n",
            "\n",
            "    accuracy                           0.80        10\n",
            "   macro avg       0.86      0.80      0.79        10\n",
            "weighted avg       0.86      0.80      0.79        10\n",
            "\n"
          ]
        }
      ]
    },
    {
      "cell_type": "markdown",
      "source": [
        "Note that our classifier has `precision` of 0.71 and recall of 1.0 on class label 1. The `f1-score` is 0.88.\n",
        "\n",
        "#Demo #2: Polynomial least square classification\n",
        "\n",
        "In the second demonstration, we will use logistic regression to fit a circular decision boundary between two classes.\n",
        "**STEP 1:** For this demonstration , we will generate samples from two classes such that they are separated by a circular decision boundary.\n",
        "\n"
      ],
      "metadata": {
        "id": "MhiofhumMohD"
      }
    },
    {
      "cell_type": "code",
      "source": [
        "from sklearn.datasets import make_circles \n",
        "feature_matrix, label_vector = make_circles()"
      ],
      "metadata": {
        "id": "K5RQ-DPJOWz0"
      },
      "execution_count": null,
      "outputs": []
    },
    {
      "cell_type": "markdown",
      "source": [
        "As a sanity check, compare the first element of shape of feature matrix and label vector. Make sure they are identical."
      ],
      "metadata": {
        "id": "vWfmZCRLOkZr"
      }
    },
    {
      "cell_type": "code",
      "source": [
        "assert feature_matrix.shape[0]== label_vector.shape[0]\n"
      ],
      "metadata": {
        "id": "VmCw9HWIOtOm"
      },
      "execution_count": null,
      "outputs": []
    },
    {
      "cell_type": "markdown",
      "source": [
        "The assertion succeed -which means both the feature matrix and label vector have same number of rows.\n",
        "\n",
        "\n",
        "**STEP 2**: As the next step, we will make use of polynomial feature transformation to transform the features to polynomials of desired degree.\n",
        "**Note**:\n",
        "* It is important to note that we would not have an idea about an appropriate degree for polynomial transformation in real world problem setting.\n",
        "* We perform hyperparameter search to determine the right degree for polynomial transformation. More about it in MLP course.\n",
        "*Another option is to use model diagnostic tools-in case the model is underfitting, we can make model fit better by increasing the degree of the polynomial. On the other hand, if the model is overfitting, we can either reduce the degree of polynomial or increase regularization penalty.\n",
        "\n",
        "\n",
        "We use `polynomial_transform` with `degree =2` for transforming input features into the second order polynomial features."
      ],
      "metadata": {
        "id": "wU0ycIunO1Ua"
      }
    },
    {
      "cell_type": "code",
      "source": [
        "x_poly = polynomial_transform(feature_matrix,  degree =2)"
      ],
      "metadata": {
        "id": "6HEwt2lvR0nw"
      },
      "execution_count": null,
      "outputs": []
    },
    {
      "cell_type": "markdown",
      "source": [
        "Polynomial feature transformation results in more features. Let's compare number of feature before and after the transformation."
      ],
      "metadata": {
        "id": "eHwgG43rR7jj"
      }
    },
    {
      "cell_type": "code",
      "source": [
        "print(\"# features before transformation:\", feature_matrix.shape[1])\n",
        "print(\"# features after transformation:\",x_poly.shape[1])"
      ],
      "metadata": {
        "colab": {
          "base_uri": "https://localhost:8080/"
        },
        "id": "0QkG0RDgSFlv",
        "outputId": "36534ff4-0d42-4005-efaf-cba0ed49c41a"
      },
      "execution_count": null,
      "outputs": [
        {
          "output_type": "stream",
          "name": "stdout",
          "text": [
            "# features before transformation: 2\n",
            "# features after transformation: 6\n"
          ]
        }
      ]
    },
    {
      "cell_type": "markdown",
      "source": [
        "The four additional features are as follows:\n",
        "1. Dummy feature corresponding to bias. It is set to 1.\n",
        "2. Squares of the original features-that adds two more features: $x_1^2, x_2^2$\n",
        "3. One more feature corresponding to interaction between two features: $x_1,x_2$.\n",
        "\n",
        "Let's look at the first 5 samples from original and transformed feature matrix."
      ],
      "metadata": {
        "id": "oXfrArfvSgek"
      }
    },
    {
      "cell_type": "code",
      "source": [
        "feature_matrix[:5]"
      ],
      "metadata": {
        "colab": {
          "base_uri": "https://localhost:8080/"
        },
        "id": "M5SNjboWTDYA",
        "outputId": "ac91d5d9-8644-44da-dc52-3bdf9b2c8e41"
      },
      "execution_count": null,
      "outputs": [
        {
          "output_type": "execute_result",
          "data": {
            "text/plain": [
              "array([[-8.00000000e-01, -2.57299624e-16],\n",
              "       [-1.49905052e-01,  7.85829801e-01],\n",
              "       [-5.09939192e-01,  6.16410594e-01],\n",
              "       [-7.93691761e-01, -1.00266587e-01],\n",
              "       [ 3.40623433e-01, -7.23861642e-01]])"
            ]
          },
          "metadata": {},
          "execution_count": 183
        }
      ]
    },
    {
      "cell_type": "code",
      "source": [
        "x_poly[:5]"
      ],
      "metadata": {
        "colab": {
          "base_uri": "https://localhost:8080/"
        },
        "id": "XeF26j0FTedq",
        "outputId": "9f9d1069-6995-4d1e-d111-dc6fbe1c8123"
      },
      "execution_count": null,
      "outputs": [
        {
          "output_type": "execute_result",
          "data": {
            "text/plain": [
              "array([[ 1.00000000e+00, -8.00000000e-01, -2.57299624e-16,\n",
              "         6.40000000e-01,  2.05839699e-16,  6.62030965e-32],\n",
              "       [ 1.00000000e+00, -1.49905052e-01,  7.85829801e-01,\n",
              "         2.24715245e-02, -1.17799857e-01,  6.17528475e-01],\n",
              "       [ 1.00000000e+00, -5.09939192e-01,  6.16410594e-01,\n",
              "         2.60037979e-01, -3.14331920e-01,  3.79962021e-01],\n",
              "       [ 1.00000000e+00, -7.93691761e-01, -1.00266587e-01,\n",
              "         6.29946612e-01,  7.95807639e-02,  1.00533884e-02],\n",
              "       [ 1.00000000e+00,  3.40623433e-01, -7.23861642e-01,\n",
              "         1.16024323e-01, -2.46564238e-01,  5.23975677e-01]])"
            ]
          },
          "metadata": {},
          "execution_count": 184
        }
      ]
    },
    {
      "cell_type": "markdown",
      "source": [
        "Note that the second and the third feature are the original input features, whereas the first, fourth,fifth and sixth features are newly added features during transformation.\n",
        "* The first feature from the transformed feature corresponds to the bias and is set to 1 for all the samples.\n",
        "\n",
        "**STEP 3**: Split the training set consisting of transformed feature matrix and label vector into train and test sets.\n",
        "For this - we will make use of `train_test_split` util from `sklearn` that takes feature matrix and label vector as input and returns train and test feature matrices and label vectors.\n"
      ],
      "metadata": {
        "id": "m3b1yWdIUJhD"
      }
    },
    {
      "cell_type": "code",
      "source": [
        "x_train, x_test, y_train, y_test = train_test_split(x_poly, label_vector)\n"
      ],
      "metadata": {
        "id": "Ol6S0O0TVawk"
      },
      "execution_count": null,
      "outputs": []
    },
    {
      "cell_type": "markdown",
      "source": [
        "It is good practice to assert that the training feature matrix and labels have same number of rows. The same assertion should be extended to the test set.\n"
      ],
      "metadata": {
        "id": "cG8eow_SVm9d"
      }
    },
    {
      "cell_type": "code",
      "source": [
        "assert x_train.shape[0]==y_train.shape[0]\n",
        "assert x_test.shape[0]==y_test.shape[0]"
      ],
      "metadata": {
        "id": "7fjA4IOuVyO-"
      },
      "execution_count": null,
      "outputs": []
    },
    {
      "cell_type": "markdown",
      "source": [
        "**STEP 4**: Next we plot the training data in original feature space and check its distribution.\n"
      ],
      "metadata": {
        "id": "rwZ4BIO7V_Tp"
      }
    },
    {
      "cell_type": "code",
      "source": [
        "sns.set_style('white')\n",
        "f = plt.figure(figsize=(8,8))\n",
        "sns.set_context('notebook',font_scale=1.5, rc={'lines.linewidth': 2.5})\n",
        "\n",
        "sns.scatterplot(data=x_train, x=x_train[:,1],y=x_train[:,2], hue=y_train)\n",
        "plt.xlabel('$x_1$')\n",
        "plt.ylabel('$x_2$')\n",
        "plt.show()"
      ],
      "metadata": {
        "colab": {
          "base_uri": "https://localhost:8080/",
          "height": 515
        },
        "id": "AKU_dzplWHZL",
        "outputId": "084a6079-c7be-4e20-ca28-f7ed5a6d4cb9"
      },
      "execution_count": null,
      "outputs": [
        {
          "output_type": "display_data",
          "data": {
            "image/png": "[encoded data removed]",
            "text/plain": [
              "<Figure size 576x576 with 1 Axes>"
            ]
          },
          "metadata": {}
        }
      ]
    },
    {
      "cell_type": "markdown",
      "source": [
        "**STEP 5**: Train a logistic regression model on the training set and visualize the model.\n"
      ],
      "metadata": {
        "id": "H-sjewi9W-4W"
      }
    },
    {
      "cell_type": "code",
      "source": [
        "log_reg_poly = LogisticRegression() \n",
        "log_reg_poly.gd(x_train, y_train, reg_rate=0,num_epochs=10000, lr=1e-2)"
      ],
      "metadata": {
        "colab": {
          "base_uri": "https://localhost:8080/"
        },
        "id": "tfVgABfFXHXi",
        "outputId": "87b7f83c-3b1d-4539-9d1a-1867182adc58"
      },
      "execution_count": null,
      "outputs": [
        {
          "output_type": "execute_result",
          "data": {
            "text/plain": [
              "array([ 2.03212877e+01, -3.62360899e-02,  7.36788518e-03, -2.49434641e+01,\n",
              "        1.06058158e-01, -2.47207876e+01])"
            ]
          },
          "metadata": {},
          "execution_count": 188
        }
      ]
    },
    {
      "cell_type": "markdown",
      "source": [
        "We use loss values stored during each step of GD for plotting the learning curve.\n",
        "Here is our learning curve-the iteration number is on x-axis and the loss is on y-axis."
      ],
      "metadata": {
        "id": "1Xy8XrIrXZyb"
      }
    },
    {
      "cell_type": "code",
      "source": [
        "plot_learning_curve(log_reg_poly.err_all)"
      ],
      "metadata": {
        "colab": {
          "base_uri": "https://localhost:8080/",
          "height": 298
        },
        "id": "05IOZ-SKXmnA",
        "outputId": "544b4e79-6a6e-4808-a03e-ea5376ef48d2"
      },
      "execution_count": null,
      "outputs": [
        {
          "output_type": "display_data",
          "data": {
            "image/png": "[encoded data removed]",
            "text/plain": [
              "<Figure size 432x288 with 1 Axes>"
            ]
          },
          "metadata": {}
        }
      ]
    },
    {
      "cell_type": "markdown",
      "source": [
        "We will visualize the decision boundary learnt by the logistic regression classifier."
      ],
      "metadata": {
        "id": "z28gVZmOXscm"
      }
    },
    {
      "cell_type": "code",
      "source": [
        "visualize_model(x_train, y_train, log_reg_poly, degree=2)"
      ],
      "metadata": {
        "colab": {
          "base_uri": "https://localhost:8080/",
          "height": 515
        },
        "id": "JxUo6TKiX6Ia",
        "outputId": "85bdeee4-2ca1-46b4-cf41-e6cfc93f9dbe"
      },
      "execution_count": null,
      "outputs": [
        {
          "output_type": "display_data",
          "data": {
            "image/png": "[encoded data removed]",
            "text/plain": [
              "<Figure size 576x576 with 1 Axes>"
            ]
          },
          "metadata": {}
        }
      ]
    },
    {
      "cell_type": "markdown",
      "source": [
        "**STEP 6**: Model evaluation\n",
        "The next step is to use the model for making predictions on the new inputs. Let's predict labels on the test set-that was set aside for evaluating model performance."
      ],
      "metadata": {
        "id": "XyatHXcLYLEL"
      }
    },
    {
      "cell_type": "code",
      "source": [
        "y_test_hat = log_reg_poly.predict(x_test)"
      ],
      "metadata": {
        "id": "XRtoumT3YdTJ"
      },
      "execution_count": null,
      "outputs": []
    },
    {
      "cell_type": "markdown",
      "source": [
        "We compare these predictions with the actual labels and generate a classification report that includes several metrics like confusion matrix, precision, recall, F1-score etc.\n"
      ],
      "metadata": {
        "id": "a_-ER0gxXxj4"
      }
    },
    {
      "cell_type": "code",
      "source": [
        "from sklearn.metrics import classification_report \n",
        "print(classification_report(y_test, y_test_hat, zero_division=0))"
      ],
      "metadata": {
        "colab": {
          "base_uri": "https://localhost:8080/"
        },
        "id": "iHH9c0tEY6HB",
        "outputId": "a04ea8c7-b5a4-48f7-f8cc-975b9970254d"
      },
      "execution_count": null,
      "outputs": [
        {
          "output_type": "stream",
          "name": "stdout",
          "text": [
            "              precision    recall  f1-score   support\n",
            "\n",
            "           0       1.00      1.00      1.00        13\n",
            "           1       1.00      1.00      1.00        12\n",
            "\n",
            "    accuracy                           1.00        25\n",
            "   macro avg       1.00      1.00      1.00        25\n",
            "weighted avg       1.00      1.00      1.00        25\n",
            "\n"
          ]
        }
      ]
    },
    {
      "cell_type": "markdown",
      "source": [
        "**NOTE** that we have a perfect classifier here. It was a toy settting-however such a thing may not be possible on the real world dataset.\n",
        "\n",
        "SWI\n",
        "1. Train logisitc regression classifier with polynomial transformation of different degrees with the following steps:"
      ],
      "metadata": {
        "id": "RSbZuhZFZQby"
      }
    },
    {
      "cell_type": "markdown",
      "source": [
        "#Logistic regression visualization\n",
        "\n",
        "## Loss surface\n",
        "\n",
        "We had visualized logistic regression loss function in the slides.\n",
        "Here is the step by step process to generate this visualization:\n",
        "1. Generate a grid of weights $=w_1 \\text { and } w_2$ \n",
        "2. For each point on the grid, calculate cross entropy on the fix training set.\n",
        "3. Plot contour of weights and loss.\n",
        "The basic idea here is to calculate loss for a given weight vector on a fixed estimator and training set.\n"
      ],
      "metadata": {
        "id": "lK7L6DGuaGom"
      }
    },
    {
      "cell_type": "code",
      "source": [
        "from matplotlib import cm #colormaps\n",
        "from matplotlib.colors import colorConverter , ListedColormap \n"
      ],
      "metadata": {
        "id": "H-ZRLAa3bW-W"
      },
      "execution_count": null,
      "outputs": []
    },
    {
      "cell_type": "markdown",
      "source": [
        "We need to instantiate a logistic regression estimator for cross entropy calculation."
      ],
      "metadata": {
        "id": "ufQgBJxabi5u"
      }
    },
    {
      "cell_type": "code",
      "source": [
        "log_reg_vis = LogisticRegression() \n"
      ],
      "metadata": {
        "id": "G6cnYx8Obqrr"
      },
      "execution_count": null,
      "outputs": []
    },
    {
      "cell_type": "markdown",
      "source": [
        "We also need training data for calculation of loss for a given weight vector."
      ],
      "metadata": {
        "id": "gLs7uS6JbwbS"
      }
    },
    {
      "cell_type": "code",
      "source": [
        "feature_matrix, label_vector = create_toy_data() \n",
        "feature_matrix_bias = polynomial_transform(feature_matrix, degree=1)\n",
        "x_train, x_test, y_train, y_test = train_test_split(feature_matrix_bias,label_vector)\n"
      ],
      "metadata": {
        "id": "Kprhxbbgb5j6"
      },
      "execution_count": null,
      "outputs": []
    },
    {
      "cell_type": "code",
      "source": [
        "x_train.shape"
      ],
      "metadata": {
        "colab": {
          "base_uri": "https://localhost:8080/"
        },
        "id": "m7FiUJaoc07d",
        "outputId": "efe050eb-fdb6-4cab-f606-45ae6a30e251"
      },
      "execution_count": null,
      "outputs": [
        {
          "output_type": "execute_result",
          "data": {
            "text/plain": [
              "(37, 3)"
            ]
          },
          "metadata": {},
          "execution_count": 196
        }
      ]
    },
    {
      "cell_type": "markdown",
      "source": [
        "Next we generate a grid of 25 weights.\n"
      ],
      "metadata": {
        "id": "Rz0gK-24c4e6"
      }
    },
    {
      "cell_type": "code",
      "source": [
        "point_count = 25\n",
        "w1 = np.linspace(-5,5, num=point_count)\n",
        "w2 = np.linspace(-5,5, num=point_count)\n",
        "w1_list, w2_list =np.meshgrid(w1,w2) #generate grid \n",
        "\n"
      ],
      "metadata": {
        "id": "JI23GOdBc9-e"
      },
      "execution_count": null,
      "outputs": []
    },
    {
      "cell_type": "markdown",
      "source": [
        "Calculate loss at each point on the grid.\n"
      ],
      "metadata": {
        "id": "DM672r5wdZAE"
      }
    },
    {
      "cell_type": "code",
      "source": [
        "loss = np.zeros((point_count, point_count)) #initialize loss matrix \n",
        " #Fill the loss matrix for each combination of weights\n",
        "\n",
        "for i in range(point_count):\n",
        "  for j in range(point_count):\n",
        "    weight_vector =np.array([0,w1_list[i,j],w2_list[i,j]])\n",
        "    log_reg_vis.set_weight_vector(weight_vector)\n",
        "    loss[i,j]=log_reg_vis.loss(x_train, y_train, reg_rate=0)"
      ],
      "metadata": {
        "id": "6gD5IvW7dzJb"
      },
      "execution_count": null,
      "outputs": []
    },
    {
      "cell_type": "markdown",
      "source": [
        "Now plot the loss surface.\n"
      ],
      "metadata": {
        "id": "v5L6A-_nlyeA"
      }
    },
    {
      "cell_type": "code",
      "source": [
        "#Plot the loss function surface.\n",
        "plt.figure(figsize=(6,4))\n",
        "plt.contourf(w1_list, w2_list, loss, 20, cmap=cm.viridis)\n",
        "cbar = plt.colorbar() \n",
        "cbar.ax.set_ylabel('$J\\mathbf{w})$',fontsize=12)\n",
        "plt.xlabel('$w_1$', fontsize=12)\n",
        "plt.ylabel('$w_2$',fontsize=12)\n",
        "plt.title('Loss function contours')\n",
        "plt.show()"
      ],
      "metadata": {
        "colab": {
          "base_uri": "https://localhost:8080/",
          "height": 313
        },
        "id": "qDboMx3-l25-",
        "outputId": "0e07c5d1-5995-478c-93d6-fd5c50d1e9d6"
      },
      "execution_count": null,
      "outputs": [
        {
          "output_type": "display_data",
          "data": {
            "image/png": "[encoded data removed]",
            "text/plain": [
              "<Figure size 432x288 with 2 Axes>"
            ]
          },
          "metadata": {}
        }
      ]
    },
    {
      "cell_type": "markdown",
      "source": [
        "#Gradient descent trajectory\n"
      ],
      "metadata": {
        "id": "48udCJhanGk8"
      }
    },
    {
      "cell_type": "code",
      "source": [
        "log_reg_vis.gd(x_train, y_train, num_epochs=1000, reg_rate=0,lr=1e-2)"
      ],
      "metadata": {
        "colab": {
          "base_uri": "https://localhost:8080/"
        },
        "id": "-jcnlXwCnKgK",
        "outputId": "54187458-d70d-4673-c116-099d52edb6a1"
      },
      "execution_count": null,
      "outputs": [
        {
          "output_type": "execute_result",
          "data": {
            "text/plain": [
              "array([0.6958067 , 1.61362475, 0.87521977])"
            ]
          },
          "metadata": {},
          "execution_count": 200
        }
      ]
    },
    {
      "cell_type": "markdown",
      "source": [
        "Here we make use of weights stored during the gradient descent procedure."
      ],
      "metadata": {
        "id": "AhxtdIBwnoOB"
      }
    },
    {
      "cell_type": "code",
      "source": [
        "#First plot the loss contours based on the grid in the previous subsection.\n",
        "plt.figure(figsize=(6,4))\n",
        "plt.contourf(w1_list, w2_list, loss, 20, alpha=0.75, cmap=cm.viridis)\n",
        "cbar= plt.colorbar()\n",
        "cbar.ax.set_ylabel('loss')\n",
        "\n",
        "#plot weights after each few epochs\n",
        "for i in range(1,900,100):\n",
        "  w1 = log_reg_vis.w_all[i-1]\n",
        "  w2 = log_reg_vis.w_all[i+100]\n",
        "\n",
        "  #plt the weight loss values that represents the update\n",
        "  plt.plot(w1[1],w1[2],marker='o', color='c') #Plot the weight-loss value.\n",
        "  plt.plot([w1[1],w2[1]],[w1[2],w2[2]], linestyle='-',color='b') \n",
        "\n",
        "#plot the last weight \n",
        "w1 = log_reg_vis.w_all[-1] \n",
        "plt.plot(w1[1],w1[2],marker='o',color='r')\n",
        "\n",
        "#show figure\n",
        "\n",
        "plt.xlabel('$w_1$',fontsize=12)\n",
        "plt.ylabel('$w_2$',fontsize=12)\n",
        "plt.title(\"Gradient descent updates on loss surface\")\n",
        "plt.show()"
      ],
      "metadata": {
        "colab": {
          "base_uri": "https://localhost:8080/",
          "height": 313
        },
        "id": "8oojCzIronOw",
        "outputId": "9f146d6a-03d4-47e0-b242-eb6d1a0a5075"
      },
      "execution_count": null,
      "outputs": [
        {
          "output_type": "display_data",
          "data": {
            "image/png": "[encoded data removed]",
            "text/plain": [
              "<Figure size 432x288 with 2 Axes>"
            ]
          },
          "metadata": {}
        }
      ]
    }
  ]
}